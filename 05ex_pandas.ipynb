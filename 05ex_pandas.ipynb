{
 "cells": [
  {
   "cell_type": "markdown",
   "metadata": {},
   "source": [
    "This exercise consists in analyzing a dataset containg timing information from a series of Time-to-Digital-Converters (TDC) implemented in a pair of FPGAs. Each measurement (i.e. each row of the input file) consists of a flag that specifies the type of message ('HEAD', which in this case is always 1), two addresses of the TDC providing the signal ('FPGA' and 'TDC_CHANNEL'), and the timing information ('ORBIT_CNT', 'BX_COUNTER', and 'TDC_MEAS'). Each TDC count corresponds to 25/30 ns, whereas a unit of BX_COUNTER corresponds to 25 ns, and the ORBIT_CNT is increased every 'x' BX_COUNTER. This allows to store the time in a similar way to hours, minutes and seconds."
   ]
  },
  {
   "cell_type": "code",
   "execution_count": null,
   "metadata": {},
   "outputs": [],
   "source": [
    "# If haven't downloaded it yet, please get the data file with wget\n",
    "#!wget https://www.dropbox.com/s/xvjzaxzz3ysphme/data_000637.txt -P ./data/"
   ]
  },
  {
   "cell_type": "markdown",
   "metadata": {},
   "source": [
    "1\\. Create a Pandas DataFrame reading N rows of the `data/data_000637.txt` dataset. Choose N to be smaller than or equal to the maximum number of rows and larger that 10k (check the documentation)."
   ]
  },
  {
   "cell_type": "code",
   "execution_count": 2,
   "metadata": {},
   "outputs": [
    {
     "data": {
      "text/html": [
       "<div>\n",
       "<style scoped>\n",
       "    .dataframe tbody tr th:only-of-type {\n",
       "        vertical-align: middle;\n",
       "    }\n",
       "\n",
       "    .dataframe tbody tr th {\n",
       "        vertical-align: top;\n",
       "    }\n",
       "\n",
       "    .dataframe thead th {\n",
       "        text-align: right;\n",
       "    }\n",
       "</style>\n",
       "<table border=\"1\" class=\"dataframe\">\n",
       "  <thead>\n",
       "    <tr style=\"text-align: right;\">\n",
       "      <th></th>\n",
       "      <th>HEAD</th>\n",
       "      <th>FPGA</th>\n",
       "      <th>TDC_CHANNEL</th>\n",
       "      <th>ORBIT_CNT</th>\n",
       "      <th>BX_COUNTER</th>\n",
       "      <th>TDC_MEAS</th>\n",
       "    </tr>\n",
       "  </thead>\n",
       "  <tbody>\n",
       "    <tr>\n",
       "      <th>0</th>\n",
       "      <td>1</td>\n",
       "      <td>0</td>\n",
       "      <td>123</td>\n",
       "      <td>3869200167</td>\n",
       "      <td>2374</td>\n",
       "      <td>26</td>\n",
       "    </tr>\n",
       "    <tr>\n",
       "      <th>1</th>\n",
       "      <td>1</td>\n",
       "      <td>0</td>\n",
       "      <td>124</td>\n",
       "      <td>3869200167</td>\n",
       "      <td>2374</td>\n",
       "      <td>27</td>\n",
       "    </tr>\n",
       "    <tr>\n",
       "      <th>2</th>\n",
       "      <td>1</td>\n",
       "      <td>0</td>\n",
       "      <td>63</td>\n",
       "      <td>3869200167</td>\n",
       "      <td>2553</td>\n",
       "      <td>28</td>\n",
       "    </tr>\n",
       "    <tr>\n",
       "      <th>3</th>\n",
       "      <td>1</td>\n",
       "      <td>0</td>\n",
       "      <td>64</td>\n",
       "      <td>3869200167</td>\n",
       "      <td>2558</td>\n",
       "      <td>19</td>\n",
       "    </tr>\n",
       "    <tr>\n",
       "      <th>4</th>\n",
       "      <td>1</td>\n",
       "      <td>0</td>\n",
       "      <td>64</td>\n",
       "      <td>3869200167</td>\n",
       "      <td>2760</td>\n",
       "      <td>25</td>\n",
       "    </tr>\n",
       "    <tr>\n",
       "      <th>...</th>\n",
       "      <td>...</td>\n",
       "      <td>...</td>\n",
       "      <td>...</td>\n",
       "      <td>...</td>\n",
       "      <td>...</td>\n",
       "      <td>...</td>\n",
       "    </tr>\n",
       "    <tr>\n",
       "      <th>14995</th>\n",
       "      <td>1</td>\n",
       "      <td>1</td>\n",
       "      <td>4</td>\n",
       "      <td>3869200316</td>\n",
       "      <td>3399</td>\n",
       "      <td>9</td>\n",
       "    </tr>\n",
       "    <tr>\n",
       "      <th>14996</th>\n",
       "      <td>1</td>\n",
       "      <td>1</td>\n",
       "      <td>17</td>\n",
       "      <td>3869200316</td>\n",
       "      <td>3400</td>\n",
       "      <td>15</td>\n",
       "    </tr>\n",
       "    <tr>\n",
       "      <th>14997</th>\n",
       "      <td>1</td>\n",
       "      <td>1</td>\n",
       "      <td>10</td>\n",
       "      <td>3869200316</td>\n",
       "      <td>3530</td>\n",
       "      <td>16</td>\n",
       "    </tr>\n",
       "    <tr>\n",
       "      <th>14998</th>\n",
       "      <td>1</td>\n",
       "      <td>1</td>\n",
       "      <td>8</td>\n",
       "      <td>3869200316</td>\n",
       "      <td>3533</td>\n",
       "      <td>18</td>\n",
       "    </tr>\n",
       "    <tr>\n",
       "      <th>14999</th>\n",
       "      <td>1</td>\n",
       "      <td>0</td>\n",
       "      <td>139</td>\n",
       "      <td>3869200316</td>\n",
       "      <td>3539</td>\n",
       "      <td>0</td>\n",
       "    </tr>\n",
       "  </tbody>\n",
       "</table>\n",
       "<p>15000 rows × 6 columns</p>\n",
       "</div>"
      ],
      "text/plain": [
       "       HEAD  FPGA  TDC_CHANNEL   ORBIT_CNT  BX_COUNTER  TDC_MEAS\n",
       "0         1     0          123  3869200167        2374        26\n",
       "1         1     0          124  3869200167        2374        27\n",
       "2         1     0           63  3869200167        2553        28\n",
       "3         1     0           64  3869200167        2558        19\n",
       "4         1     0           64  3869200167        2760        25\n",
       "...     ...   ...          ...         ...         ...       ...\n",
       "14995     1     1            4  3869200316        3399         9\n",
       "14996     1     1           17  3869200316        3400        15\n",
       "14997     1     1           10  3869200316        3530        16\n",
       "14998     1     1            8  3869200316        3533        18\n",
       "14999     1     0          139  3869200316        3539         0\n",
       "\n",
       "[15000 rows x 6 columns]"
      ]
     },
     "execution_count": 2,
     "metadata": {},
     "output_type": "execute_result"
    }
   ],
   "source": [
    "import pandas as pd # standard naming convention\n",
    "import numpy as np\n",
    "\n",
    "file_name = \"./data/data_000637.txt\"\n",
    "data = pd.read_csv(file_name, nrows=15000)\n",
    "data"
   ]
  },
  {
   "cell_type": "markdown",
   "metadata": {},
   "source": [
    "2\\. Estimate the number of BX in a ORBIT (the value 'x')."
   ]
  },
  {
   "cell_type": "code",
   "execution_count": 3,
   "metadata": {},
   "outputs": [
    {
     "name": "stdout",
     "output_type": "stream",
     "text": [
      "Max 3563\n"
     ]
    }
   ],
   "source": [
    "df = data[\"BX_COUNTER\"]\n",
    "df\n",
    "\n",
    "print(\"Max\", max(df))"
   ]
  },
  {
   "cell_type": "markdown",
   "metadata": {},
   "source": [
    "3\\. Find out the duration of the data taking in hours, minutes and seconds. You can either make an estimate based on the fraction of the measurements (rows) you read, or perform this check precisely by reading the whole dataset."
   ]
  },
  {
   "cell_type": "code",
   "execution_count": 4,
   "metadata": {},
   "outputs": [
    {
     "name": "stdout",
     "output_type": "stream",
     "text": [
      "0.013301278312500001\n"
     ]
    },
    {
     "data": {
      "text/plain": [
       "0        0.000000e+00\n",
       "1        8.125000e-01\n",
       "2        4.476625e+03\n",
       "3        4.594125e+03\n",
       "4        9.649125e+03\n",
       "             ...     \n",
       "14995    1.329779e+07\n",
       "14996    1.329782e+07\n",
       "14997    1.330107e+07\n",
       "14998    1.330114e+07\n",
       "14999    1.330128e+07\n",
       "Name: NANO_SEC, Length: 15000, dtype: float64"
      ]
     },
     "execution_count": 4,
     "metadata": {},
     "output_type": "execute_result"
    }
   ],
   "source": [
    "data[\"NANO_SEC\"] = data[\"TDC_MEAS\"]*25/30 + data[\"BX_COUNTER\"]*25 + data[\"ORBIT_CNT\"]*3563*25\n",
    "data[\"NANO_SEC\"] = data[\"NANO_SEC\"] - data.loc[0][\"NANO_SEC\"]\n",
    "print((data.loc[14999][\"NANO_SEC\"] - data.loc[0][\"NANO_SEC\"])*10**(-9))\n",
    "data[\"NANO_SEC\"]"
   ]
  },
  {
   "cell_type": "markdown",
   "metadata": {},
   "source": [
    "4\\. Create a new column with the absolute time in ns (as a combination of the other three columns with timing information) since the beginning of the data acquisition."
   ]
  },
  {
   "cell_type": "code",
   "execution_count": 5,
   "metadata": {},
   "outputs": [
    {
     "data": {
      "text/html": [
       "<div>\n",
       "<style scoped>\n",
       "    .dataframe tbody tr th:only-of-type {\n",
       "        vertical-align: middle;\n",
       "    }\n",
       "\n",
       "    .dataframe tbody tr th {\n",
       "        vertical-align: top;\n",
       "    }\n",
       "\n",
       "    .dataframe thead th {\n",
       "        text-align: right;\n",
       "    }\n",
       "</style>\n",
       "<table border=\"1\" class=\"dataframe\">\n",
       "  <thead>\n",
       "    <tr style=\"text-align: right;\">\n",
       "      <th></th>\n",
       "      <th>HEAD</th>\n",
       "      <th>FPGA</th>\n",
       "      <th>TDC_CHANNEL</th>\n",
       "      <th>ORBIT_CNT</th>\n",
       "      <th>BX_COUNTER</th>\n",
       "      <th>TDC_MEAS</th>\n",
       "      <th>NANO_SEC</th>\n",
       "    </tr>\n",
       "  </thead>\n",
       "  <tbody>\n",
       "    <tr>\n",
       "      <th>0</th>\n",
       "      <td>1</td>\n",
       "      <td>0</td>\n",
       "      <td>123</td>\n",
       "      <td>3869200167</td>\n",
       "      <td>2374</td>\n",
       "      <td>26</td>\n",
       "      <td>0.000000e+00</td>\n",
       "    </tr>\n",
       "    <tr>\n",
       "      <th>1</th>\n",
       "      <td>1</td>\n",
       "      <td>0</td>\n",
       "      <td>124</td>\n",
       "      <td>3869200167</td>\n",
       "      <td>2374</td>\n",
       "      <td>27</td>\n",
       "      <td>8.125000e-01</td>\n",
       "    </tr>\n",
       "    <tr>\n",
       "      <th>2</th>\n",
       "      <td>1</td>\n",
       "      <td>0</td>\n",
       "      <td>63</td>\n",
       "      <td>3869200167</td>\n",
       "      <td>2553</td>\n",
       "      <td>28</td>\n",
       "      <td>4.476625e+03</td>\n",
       "    </tr>\n",
       "    <tr>\n",
       "      <th>3</th>\n",
       "      <td>1</td>\n",
       "      <td>0</td>\n",
       "      <td>64</td>\n",
       "      <td>3869200167</td>\n",
       "      <td>2558</td>\n",
       "      <td>19</td>\n",
       "      <td>4.594125e+03</td>\n",
       "    </tr>\n",
       "    <tr>\n",
       "      <th>4</th>\n",
       "      <td>1</td>\n",
       "      <td>0</td>\n",
       "      <td>64</td>\n",
       "      <td>3869200167</td>\n",
       "      <td>2760</td>\n",
       "      <td>25</td>\n",
       "      <td>9.649125e+03</td>\n",
       "    </tr>\n",
       "    <tr>\n",
       "      <th>...</th>\n",
       "      <td>...</td>\n",
       "      <td>...</td>\n",
       "      <td>...</td>\n",
       "      <td>...</td>\n",
       "      <td>...</td>\n",
       "      <td>...</td>\n",
       "      <td>...</td>\n",
       "    </tr>\n",
       "    <tr>\n",
       "      <th>14995</th>\n",
       "      <td>1</td>\n",
       "      <td>1</td>\n",
       "      <td>4</td>\n",
       "      <td>3869200316</td>\n",
       "      <td>3399</td>\n",
       "      <td>9</td>\n",
       "      <td>1.329779e+07</td>\n",
       "    </tr>\n",
       "    <tr>\n",
       "      <th>14996</th>\n",
       "      <td>1</td>\n",
       "      <td>1</td>\n",
       "      <td>17</td>\n",
       "      <td>3869200316</td>\n",
       "      <td>3400</td>\n",
       "      <td>15</td>\n",
       "      <td>1.329782e+07</td>\n",
       "    </tr>\n",
       "    <tr>\n",
       "      <th>14997</th>\n",
       "      <td>1</td>\n",
       "      <td>1</td>\n",
       "      <td>10</td>\n",
       "      <td>3869200316</td>\n",
       "      <td>3530</td>\n",
       "      <td>16</td>\n",
       "      <td>1.330107e+07</td>\n",
       "    </tr>\n",
       "    <tr>\n",
       "      <th>14998</th>\n",
       "      <td>1</td>\n",
       "      <td>1</td>\n",
       "      <td>8</td>\n",
       "      <td>3869200316</td>\n",
       "      <td>3533</td>\n",
       "      <td>18</td>\n",
       "      <td>1.330114e+07</td>\n",
       "    </tr>\n",
       "    <tr>\n",
       "      <th>14999</th>\n",
       "      <td>1</td>\n",
       "      <td>0</td>\n",
       "      <td>139</td>\n",
       "      <td>3869200316</td>\n",
       "      <td>3539</td>\n",
       "      <td>0</td>\n",
       "      <td>1.330128e+07</td>\n",
       "    </tr>\n",
       "  </tbody>\n",
       "</table>\n",
       "<p>15000 rows × 7 columns</p>\n",
       "</div>"
      ],
      "text/plain": [
       "       HEAD  FPGA  TDC_CHANNEL   ORBIT_CNT  BX_COUNTER  TDC_MEAS      NANO_SEC\n",
       "0         1     0          123  3869200167        2374        26  0.000000e+00\n",
       "1         1     0          124  3869200167        2374        27  8.125000e-01\n",
       "2         1     0           63  3869200167        2553        28  4.476625e+03\n",
       "3         1     0           64  3869200167        2558        19  4.594125e+03\n",
       "4         1     0           64  3869200167        2760        25  9.649125e+03\n",
       "...     ...   ...          ...         ...         ...       ...           ...\n",
       "14995     1     1            4  3869200316        3399         9  1.329779e+07\n",
       "14996     1     1           17  3869200316        3400        15  1.329782e+07\n",
       "14997     1     1           10  3869200316        3530        16  1.330107e+07\n",
       "14998     1     1            8  3869200316        3533        18  1.330114e+07\n",
       "14999     1     0          139  3869200316        3539         0  1.330128e+07\n",
       "\n",
       "[15000 rows x 7 columns]"
      ]
     },
     "execution_count": 5,
     "metadata": {},
     "output_type": "execute_result"
    }
   ],
   "source": [
    "data"
   ]
  },
  {
   "cell_type": "markdown",
   "metadata": {},
   "source": [
    "5\\. Use the `.groupby()` method to find out the noisy channels, i.e. the TDC channels with most counts (print to screen the top 3 and the corresponding counts)"
   ]
  },
  {
   "cell_type": "code",
   "execution_count": 6,
   "metadata": {},
   "outputs": [
    {
     "name": "stdout",
     "output_type": "stream",
     "text": [
      "3 TDC_CHANNELS is  [139, 64, 63]\n"
     ]
    }
   ],
   "source": [
    "df = data.groupby(by='TDC_CHANNEL', sort=True).count()\n",
    "df = df.sort_values('HEAD', ascending=False)\n",
    "top = [x for x in df.index[0:3]]\n",
    "print(\"3 TDC_CHANNELS is \", top)"
   ]
  },
  {
   "cell_type": "markdown",
   "metadata": {},
   "source": [
    "6\\. Count the number of non-empty orbits (i.e. the number of orbits with at least one hit). Count also the number of unique orbits with at least one measurement from TDC_CHANNEL=139."
   ]
  },
  {
   "cell_type": "code",
   "execution_count": 7,
   "metadata": {},
   "outputs": [
    {
     "name": "stdout",
     "output_type": "stream",
     "text": [
      "149\n",
      "149\n"
     ]
    }
   ],
   "source": [
    "count_nempty=0\n",
    "count_fromtdc=0\n",
    "\n",
    "for i in range(data['ORBIT_CNT'][0], data['ORBIT_CNT'][14999]):\n",
    "    if i in list(zip(*data.values.tolist()))[3]:\n",
    "        count_nempty+=1\n",
    "        df = data.loc[(data['ORBIT_CNT'] == i) & (data['TDC_CHANNEL']==139)]\n",
    "        if not df.empty: \n",
    "            count_fromtdc += 1\n",
    "        \n",
    "print(count_nempty)\n",
    "print(count_fromtdc)"
   ]
  },
  {
   "cell_type": "markdown",
   "metadata": {},
   "source": [
    "7\\. **Optional:** Make two occupancy plots (one for each FPGA), i.e. plot the number of counts per TDC channel"
   ]
  },
  {
   "cell_type": "code",
   "execution_count": 8,
   "metadata": {},
   "outputs": [
    {
     "name": "stdout",
     "output_type": "stream",
     "text": [
      "             HEAD  FPGA  ORBIT_CNT  BX_COUNTER  TDC_MEAS  NANO_SEC\n",
      "TDC_CHANNEL                                                       \n",
      "1             346   346        346         346       346       346\n",
      "2             379   379        379         379       379       379\n",
      "3             293   293        293         293       293       293\n",
      "4             309   309        309         309       309       309\n",
      "5             208   208        208         208       208       208\n",
      "...           ...   ...        ...         ...       ...       ...\n",
      "125             6     6          6           6         6         6\n",
      "126             7     7          7           7         7         7\n",
      "127            16    16         16          16        16        16\n",
      "128            18    18         18          18        18        18\n",
      "139          1268  1268       1268        1268      1268      1268\n",
      "\n",
      "[129 rows x 6 columns]\n"
     ]
    },
    {
     "data": {
      "image/png": "[encoded data removed]",
      "text/plain": [
       "<Figure size 1080x360 with 1 Axes>"
      ]
     },
     "metadata": {
      "needs_background": "light"
     },
     "output_type": "display_data"
    }
   ],
   "source": [
    "import matplotlib.pyplot as plt\n",
    "df = data.groupby('TDC_CHANNEL').count()['HEAD']\n",
    "x = [i for i in df.index]\n",
    "y = [i for i in df.values]\n",
    "\n",
    "fig = plt.figure(figsize=(15, 5))\n",
    "plt.scatter(x,y)\n",
    "print(data.groupby('TDC_CHANNEL').count())"
   ]
  },
  {
   "cell_type": "code",
   "execution_count": null,
   "metadata": {},
   "outputs": [],
   "source": []
  },
  {
   "cell_type": "code",
   "execution_count": null,
   "metadata": {},
   "outputs": [],
   "source": []
  }
 ],
 "metadata": {
  "kernelspec": {
   "display_name": "Python 3",
   "language": "python",
   "name": "python3"
  },
  "language_info": {
   "codemirror_mode": {
    "name": "ipython",
    "version": 3
   },
   "file_extension": ".py",
   "mimetype": "text/x-python",
   "name": "python",
   "nbconvert_exporter": "python",
   "pygments_lexer": "ipython3",
   "version": "3.8.8"
  }
 },
 "nbformat": 4,
 "nbformat_minor": 2
}
