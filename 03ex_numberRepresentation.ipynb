{
 "cells": [
  {
   "cell_type": "markdown",
   "metadata": {},
   "source": [
    "1\\. Write a function that converts numbers among the bin, dec, and hex representations (bin<->dec<->hex)"
   ]
  },
  {
   "cell_type": "code",
   "execution_count": 5,
   "metadata": {},
   "outputs": [
    {
     "name": "stdout",
     "output_type": "stream",
     "text": [
      "hex - int/bin\n",
      "9 - The class is -  <class 'int'>\n",
      "0b1001 - The class is -  <class 'str'>\n"
     ]
    }
   ],
   "source": [
    "def convert(n):\n",
    "    stR = str(n)\n",
    "    if stR[1]==\"x\":\n",
    "        print ( \"hex - int/bin\")\n",
    "        return int(n,16), bin(int(n, 16))\n",
    "    elif stR[1]==\"b\":\n",
    "        print (\"bin - int/hex\")\n",
    "        return int(n,2), hex(int(n, 2))\n",
    "    else:\n",
    "        print(\"int  - bin/hex\")\n",
    "        return bin(n), hex(n)\n",
    "n = 9\n",
    "n_hex = hex(n)\n",
    "m, k = convert(n_hex)\n",
    "print (m, \"- The class is - \", type(m))\n",
    "print (k, \"- The class is - \", type(k))"
   ]
  },
  {
   "cell_type": "markdown",
   "metadata": {},
   "source": [
    "2\\. Write a function that converts a 32 bit word into a single precision floating point (i.e. interprets the various bits as sign, mantissa and exponent) and check its validity."
   ]
  },
  {
   "cell_type": "code",
   "execution_count": 3,
   "metadata": {},
   "outputs": [
    {
     "name": "stdout",
     "output_type": "stream",
     "text": [
      "The float value representation is : -4.3811017175060185e+19\n"
     ]
    }
   ],
   "source": [
    "def convertToInt(mantissa_str):\n",
    "    power_count = -1\n",
    "    mantissa_int = 0\n",
    "    for i in mantissa_str:\n",
    "        mantissa_int += (int(i) * pow(2, power_count))\n",
    "        power_count -= 1\n",
    "    return (mantissa_int + 1)\n",
    " \n",
    "if __name__ == \"__main__\":\n",
    "    ieee_32 = '1|11000000|00110000000000000000000'\n",
    "    sign_bit = int(ieee_32[0])\n",
    "    exponent_bias = int(ieee_32[2 : 10], 2)\n",
    "    exponent_unbias = exponent_bias - 127\n",
    "    mantissa_str = ieee_32[11 : ]\n",
    "    mantissa_int = convertToInt(mantissa_str)\n",
    "    real_no = pow(-1, sign_bit) * mantissa_int * pow(2, exponent_unbias)\n",
    "    print(\"The float value representation is :\",real_no)"
   ]
  },
  {
   "cell_type": "markdown",
   "metadata": {},
   "source": [
    "3\\. Write a program to determine the underflow and overflow limits (within a factor of 2) for python on your computer. \n",
    "\n",
    "**Tip**: define two variables initialized to 1 and halve/double them for a sufficient amount of times to exceed the under/over-flow limits  "
   ]
  },
  {
   "cell_type": "code",
   "execution_count": 4,
   "metadata": {},
   "outputs": [
    {
     "name": "stdout",
     "output_type": "stream",
     "text": [
      "8.98846567431158e+307 1023\n",
      "5e-324 1074\n"
     ]
    }
   ],
   "source": [
    "import math\n",
    "\n",
    "maxim = 1.0\n",
    "for i in range (15000):\n",
    "    f = maxim * 2\n",
    "    y = math.inf\n",
    "    if f == y:\n",
    "        print (maxim, i)\n",
    "        break\n",
    "    else:\n",
    "        maxim = f\n",
    "minim = 1\n",
    "for i in range (1800):\n",
    "    f = minim/2\n",
    "    if f == 0:\n",
    "        print(minim, i)\n",
    "        break\n",
    "    else:\n",
    "        minim = f"
   ]
  },
  {
   "cell_type": "markdown",
   "metadata": {},
   "source": [
    "4\\. Write a program to determine the machine precision\n",
    "\n",
    "**Tip**: define a new variable by adding an increasingly smaller value (in the same way as the previous problem) and check when the addition starts to have no effect on the number"
   ]
  },
  {
   "cell_type": "code",
   "execution_count": 4,
   "metadata": {},
   "outputs": [
    {
     "name": "stdout",
     "output_type": "stream",
     "text": [
      "1\n",
      "1.1\n",
      "1.11\n",
      "1.111\n",
      "1.1111\n",
      "1.11111\n",
      "1.111111\n",
      "1.1111111\n",
      "1.11111111\n",
      "1.111111111\n",
      "1.1111111111\n",
      "1.11111111111\n",
      "1.1111111111110001\n",
      "1.1111111111111\n",
      "1.11111111111111\n",
      "1.1111111111111112\n",
      "Reached the precision at value:  15\n"
     ]
    }
   ],
   "source": [
    "x = 1\n",
    "a = 1\n",
    "for i in range(15000):\n",
    "    x = x/10\n",
    "    b = a + x\n",
    "    print(a)\n",
    "    if b == a:\n",
    "        print(\"Reached the precision at value: \", i)\n",
    "        break\n",
    "    else:\n",
    "        a = b"
   ]
  },
  {
   "cell_type": "markdown",
   "metadata": {},
   "source": [
    "5\\. Write a function that takes in input three parameters $a$, $b$ and $c$ and prints out the two solutions to the quadratic equation $ax^2+bx+c=0$ using the standard formula:\n",
    "$$\n",
    "x=\\frac{-b\\pm\\sqrt{b^2-4ac}}{2a}\n",
    "$$\n",
    "\n",
    "(a) use the program to compute the solution for $a=0.001$, $b=1000$ and $c=0.001$\n",
    "\n",
    "(b) re-express the standard solution formula by multiplying the numerator and the denominator by $-b\\mp\\sqrt{b^2-4ac}$ and again find the solution for $a=0.001$, $b=1000$ and $c=0.001$. How does it compare with what has been previously obtained, and why?\n",
    "\n",
    "(c) write a function that computes the roots of a quadratic equation accurately in all cases"
   ]
  },
  {
   "cell_type": "code",
   "execution_count": 23,
   "metadata": {},
   "outputs": [
    {
     "name": "stdout",
     "output_type": "stream",
     "text": [
      "First:  (-9.999894245993346e-07, -999999.999999)\n",
      "Second:  (-9.999894245993346e-07, -999999.9999990001)\n",
      "Third:  (-9.999894245993346e-07, -999999.999999)\n"
     ]
    }
   ],
   "source": [
    "import math as n\n",
    "\n",
    "def first(a, b, c):\n",
    "    x1 = ((-b) + n.sqrt(b**2 - 4 *a * c))/(2 * a)\n",
    "    x2 = ((-b) - n.sqrt(b**2 - 4 *a * c))/(2 * a)\n",
    "    return x1, x2\n",
    "print (\"First: \", first(0.001, 1000, 0.001))\n",
    "\n",
    "def second(a, b, c):\n",
    "    x1 = (((-b) + n.sqrt(b**2 - 4 *a * c))*((-b) - n.sqrt(b**2 - 4 *a * c)))/((2 * a)*((-b) - n.sqrt(b**2 - 4 *a * c)))\n",
    "    x2 = (((-b) - n.sqrt(b**2 - 4 *a * c))*((-b) + n.sqrt(b**2 - 4 *a * c)))/((2 * a)*((-b) + n.sqrt(b**2 - 4 *a * c)))\n",
    "    return x1, x2\n",
    "print (\"Second: \", second(0.001, 1000, 0.001))\n",
    "\n",
    "def third(a, b, c):\n",
    "    Disc = b**2 - 4 * a* c\n",
    "    if Disc > 0:\n",
    "        x1 = ((-b) + n.sqrt(Disc))/(2 * a)\n",
    "        x2 = ((-b) - n.sqrt(Disc))/(2 * a)\n",
    "        return x1, x2\n",
    "    elif Disc == 0:\n",
    "        x = ((-b))/(2 * a)\n",
    "        return x\n",
    "    else:\n",
    "        return \"No root\"\n",
    "print (\"Third: \", third(0.001, 1000, 0.001))"
   ]
  },
  {
   "cell_type": "markdown",
   "metadata": {},
   "source": [
    "6\\. Write a program that implements the function $f(x)=x(x−1)$\n",
    "\n",
    "(a) Calculate the derivative of the function at the point $x = 1$ using the derivative definition:\n",
    "\n",
    "$$\n",
    "\\frac{{\\rm d}f}{{\\rm d}x} = \\lim_{\\delta\\to0} \\frac{f(x+\\delta)-f(x)}{\\delta}\n",
    "$$\n",
    "\n",
    "with $\\delta = 10^{−2}$. Calculate the true value of the same derivative analytically and compare it with the answer your program gives. The two will not agree perfectly. Why?\n",
    "\n",
    "(b) Repeat the calculation for $\\delta = 10^{−4}, 10^{−6}, 10^{−8}, 10^{−10}, 10^{−12}$ and $10^{−14}$. How does the accuracy scales with $\\delta$?"
   ]
  },
  {
   "cell_type": "code",
   "execution_count": null,
   "metadata": {},
   "outputs": [],
   "source": [
    "import numpy as np\n",
    "\n",
    "\n",
    "def f(x):\n",
    "    y = x*(x-1)\n",
    "    return y\n",
    "\n",
    "def f_main(x):\n",
    "    return 2*x-1\n",
    "\n",
    "#the secant lines get closer and closer to being a tangent line\n",
    "\n",
    "def d1(f, x, delta=10**(-2)):\n",
    "    return (f(x + delta) - f(x)) / (delta)\n",
    "\n",
    "def d2(f, x, delta=10**(-4)):\n",
    "    return (f(x + delta) - f(x)) / (delta)\n",
    "\n",
    "def d3(f, x, delta=10**(-6)):\n",
    "    return (f(x + delta) - f(x)) / (delta)\n",
    "\n",
    "def d4(f, x, delta=10**(-8)):\n",
    "    return (f(x + delta) - f(x)) / (delta)\n",
    "\n",
    "def d5(f, x, delta=10**(-10)):\n",
    "    return (f(x + delta) - f(x)) / (delta)\n",
    "\n",
    "def d6(f, x, delta=10**(-12)):\n",
    "    return (f(x + delta) - f(x)) / (delta)\n",
    "\n",
    "xval = np.array([1])\n",
    "\n",
    "print('y  = ', f(xval))\n",
    "print('y\\' = ', f_main(xval))\n",
    "print('d1 = ', d1(f, xval))\n",
    "print('d2 = ', d2(f, xval))\n",
    "print('d3 = ', d3(f, xval))\n",
    "print('d4 = ', d4(f, xval))\n",
    "print('d5 = ', d5(f, xval))\n",
    "print('d6 = ', d6(f, xval))"
   ]
  },
  {
   "cell_type": "markdown",
   "metadata": {},
   "source": [
    "7\\. Consider the integral of the semicircle of radius 1:\n",
    "$$\n",
    "I=\\int_{-1}^{1} \\sqrt(1-x^2) {\\rm d}x\n",
    "$$\n",
    "which is known to be $I=\\frac{\\pi}{2}=1.57079632679...$.\n",
    "\n",
    "Alternatively we can use the Riemann definition of the integral:\n",
    "$$\n",
    "I=\\lim_{N\\to\\infty} \\sum_{k=1}^{N} h y_k \n",
    "$$\n",
    "\n",
    "with $h=2/N$ the width of each of the $N$ slices the domain is divided into and where\n",
    "$y_k$ is the value of the function at the $k-$th slice.\n",
    "\n",
    "(a) Write a program to compute the integral with $N=100$. How does the result compare to the true value?\n",
    "\n",
    "(b) How much can $N$ be increased if the computation needs to be run in less than a second? What is the gain in running it for 1 minute? \n"
   ]
  },
  {
   "cell_type": "code",
   "execution_count": 13,
   "metadata": {},
   "outputs": [
    {
     "name": "stdout",
     "output_type": "stream",
     "text": [
      "Rezultat =  1.5707963267948972\n",
      "Rezultat = 1.5522591631241591\n"
     ]
    }
   ],
   "source": [
    "from scipy import integrate\n",
    "import numpy as np\n",
    "def f(x):\n",
    "    return np.sqrt(1-x**2)\n",
    "v, err = integrate.quad(f, -1, 1, points=[0])\n",
    "print(\"Rezultat = \", v)\n",
    "\n",
    "\n",
    "import math\n",
    " \n",
    "def F(x):\n",
    "    return np.sqrt(1-x**2)\n",
    " \n",
    "a = -1\n",
    "b = 1\n",
    "\n",
    "\n",
    "h = 0.1\n",
    "n = int((b - a)/h)\n",
    "Summa = 0\n",
    "Rezultat = 0\n",
    " \n",
    "for i in range(1, (n+1)):\n",
    "    Summa += F(a+i*h)\n",
    " \n",
    "Rezultat = h*Summa\n",
    "print(\"Rezultat = \" + str(Rezultat))\n"
   ]
  },
  {
   "cell_type": "code",
   "execution_count": null,
   "metadata": {},
   "outputs": [],
   "source": []
  }
 ],
 "metadata": {
  "kernelspec": {
   "display_name": "Python 3",
   "language": "python",
   "name": "python3"
  },
  "language_info": {
   "codemirror_mode": {
    "name": "ipython",
    "version": 3
   },
   "file_extension": ".py",
   "mimetype": "text/x-python",
   "name": "python",
   "nbconvert_exporter": "python",
   "pygments_lexer": "ipython3",
   "version": "3.8.8"
  }
 },
 "nbformat": 4,
 "nbformat_minor": 2
}
